{
 "cells": [
  {
   "cell_type": "code",
   "execution_count": 1,
   "metadata": {
    "collapsed": true
   },
   "outputs": [],
   "source": [
    "import pandas as pd"
   ]
  },
  {
   "cell_type": "code",
   "execution_count": 4,
   "outputs": [
    {
     "name": "stdout",
     "output_type": "stream",
     "text": [
      "(26729, 10)\n"
     ]
    },
    {
     "data": {
      "text/plain": "  AnimalID     Name             DateTime      OutcomeType OutcomeSubtype  \\\n0  A671945  Hambone  2014-02-12 18:22:00  Return_to_owner            NaN   \n1  A656520    Emily  2013-10-13 12:44:00       Euthanasia      Suffering   \n2  A686464   Pearce  2015-01-31 12:28:00         Adoption         Foster   \n3  A683430      NaN  2014-07-11 19:09:00         Transfer        Partner   \n4  A667013      NaN  2013-11-15 12:52:00         Transfer        Partner   \n\n  AnimalType SexuponOutcome AgeuponOutcome                        Breed  \\\n0        Dog  Neutered Male         1 year        Shetland Sheepdog Mix   \n1        Cat  Spayed Female         1 year       Domestic Shorthair Mix   \n2        Dog  Neutered Male        2 years                 Pit Bull Mix   \n3        Cat    Intact Male        3 weeks       Domestic Shorthair Mix   \n4        Dog  Neutered Male        2 years  Lhasa Apso/Miniature Poodle   \n\n         Color  \n0  Brown/White  \n1  Cream Tabby  \n2   Blue/White  \n3   Blue Cream  \n4          Tan  ",
      "text/html": "<div>\n<style scoped>\n    .dataframe tbody tr th:only-of-type {\n        vertical-align: middle;\n    }\n\n    .dataframe tbody tr th {\n        vertical-align: top;\n    }\n\n    .dataframe thead th {\n        text-align: right;\n    }\n</style>\n<table border=\"1\" class=\"dataframe\">\n  <thead>\n    <tr style=\"text-align: right;\">\n      <th></th>\n      <th>AnimalID</th>\n      <th>Name</th>\n      <th>DateTime</th>\n      <th>OutcomeType</th>\n      <th>OutcomeSubtype</th>\n      <th>AnimalType</th>\n      <th>SexuponOutcome</th>\n      <th>AgeuponOutcome</th>\n      <th>Breed</th>\n      <th>Color</th>\n    </tr>\n  </thead>\n  <tbody>\n    <tr>\n      <th>0</th>\n      <td>A671945</td>\n      <td>Hambone</td>\n      <td>2014-02-12 18:22:00</td>\n      <td>Return_to_owner</td>\n      <td>NaN</td>\n      <td>Dog</td>\n      <td>Neutered Male</td>\n      <td>1 year</td>\n      <td>Shetland Sheepdog Mix</td>\n      <td>Brown/White</td>\n    </tr>\n    <tr>\n      <th>1</th>\n      <td>A656520</td>\n      <td>Emily</td>\n      <td>2013-10-13 12:44:00</td>\n      <td>Euthanasia</td>\n      <td>Suffering</td>\n      <td>Cat</td>\n      <td>Spayed Female</td>\n      <td>1 year</td>\n      <td>Domestic Shorthair Mix</td>\n      <td>Cream Tabby</td>\n    </tr>\n    <tr>\n      <th>2</th>\n      <td>A686464</td>\n      <td>Pearce</td>\n      <td>2015-01-31 12:28:00</td>\n      <td>Adoption</td>\n      <td>Foster</td>\n      <td>Dog</td>\n      <td>Neutered Male</td>\n      <td>2 years</td>\n      <td>Pit Bull Mix</td>\n      <td>Blue/White</td>\n    </tr>\n    <tr>\n      <th>3</th>\n      <td>A683430</td>\n      <td>NaN</td>\n      <td>2014-07-11 19:09:00</td>\n      <td>Transfer</td>\n      <td>Partner</td>\n      <td>Cat</td>\n      <td>Intact Male</td>\n      <td>3 weeks</td>\n      <td>Domestic Shorthair Mix</td>\n      <td>Blue Cream</td>\n    </tr>\n    <tr>\n      <th>4</th>\n      <td>A667013</td>\n      <td>NaN</td>\n      <td>2013-11-15 12:52:00</td>\n      <td>Transfer</td>\n      <td>Partner</td>\n      <td>Dog</td>\n      <td>Neutered Male</td>\n      <td>2 years</td>\n      <td>Lhasa Apso/Miniature Poodle</td>\n      <td>Tan</td>\n    </tr>\n  </tbody>\n</table>\n</div>"
     },
     "execution_count": 4,
     "metadata": {},
     "output_type": "execute_result"
    }
   ],
   "source": [
    "train = pd.read_csv(\"../input/train.csv\")\n",
    "print(train.shape)\n",
    "train.head()"
   ],
   "metadata": {
    "collapsed": false,
    "pycharm": {
     "name": "#%%\n"
    }
   }
  },
  {
   "cell_type": "code",
   "execution_count": 6,
   "outputs": [
    {
     "data": {
      "text/plain": "<Figure size 432x288 with 1 Axes>",
      "image/png": "[encoded data removed]"
     },
     "metadata": {
      "needs_background": "light"
     },
     "output_type": "display_data"
    }
   ],
   "source": [
    "import matplotlib.pyplot as plt\n",
    "import seaborn as sns\n",
    "sns.countplot(x=\"OutcomeType\", data=train)\n",
    "plt.show()"
   ],
   "metadata": {
    "collapsed": false,
    "pycharm": {
     "name": "#%%\n"
    }
   }
  },
  {
   "cell_type": "code",
   "execution_count": null,
   "outputs": [],
   "source": [
    "test = pd.read_csv(\"../input/test.csv\")\n",
    "print(test.shape)\n",
    "test.head()"
   ],
   "metadata": {
    "collapsed": false,
    "pycharm": {
     "name": "#%%\n"
    }
   }
  },
  {
   "cell_type": "code",
   "execution_count": null,
   "outputs": [],
   "source": [
    "sample_sub = pd.read_csv(\"../input/sample_submission.csv\")\n",
    "sample_sub.head()"
   ],
   "metadata": {
    "collapsed": false,
    "pycharm": {
     "name": "#%%\n"
    }
   }
  },
  {
   "cell_type": "code",
   "execution_count": null,
   "outputs": [],
   "source": [],
   "metadata": {
    "collapsed": false,
    "pycharm": {
     "name": "#%%\n"
    }
   }
  }
 ],
 "metadata": {
  "kernelspec": {
   "display_name": "Python 3",
   "language": "python",
   "name": "python3"
  },
  "language_info": {
   "codemirror_mode": {
    "name": "ipython",
    "version": 2
   },
   "file_extension": ".py",
   "mimetype": "text/x-python",
   "name": "python",
   "nbconvert_exporter": "python",
   "pygments_lexer": "ipython2",
   "version": "2.7.6"
  }
 },
 "nbformat": 4,
 "nbformat_minor": 0
}